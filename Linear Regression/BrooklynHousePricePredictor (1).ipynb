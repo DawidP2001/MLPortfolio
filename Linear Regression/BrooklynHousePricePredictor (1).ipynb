{
  "nbformat": 4,
  "nbformat_minor": 0,
  "metadata": {
    "colab": {
      "provenance": [],
      "mount_file_id": "1_pR1j3FVre6Q0z2gXBZVP7j7qNXQ3yO8",
      "authorship_tag": "ABX9TyPvilhj69yg8E3ZgGFawhvF"
    },
    "kernelspec": {
      "name": "python3",
      "display_name": "Python 3"
    },
    "language_info": {
      "name": "python"
    }
  },
  "cells": [
    {
      "cell_type": "markdown",
      "source": [
        "#Introduction\n",
        "In this jupyter notebook I wanted to see the difference between handling differents smiliar datasets. This one deals with brooklyn house prices. In this notebook I mainly test out how to deal with extracting specific categories you want to test out of data."
      ],
      "metadata": {
        "id": "DduTN_2bT6QT"
      }
    },
    {
      "cell_type": "markdown",
      "source": [
        "#Setting up the data"
      ],
      "metadata": {
        "id": "M3R3ubIFY47g"
      }
    },
    {
      "cell_type": "code",
      "execution_count": null,
      "metadata": {
        "colab": {
          "base_uri": "https://localhost:8080/",
          "height": 464
        },
        "id": "Uym3y5HRHc8_",
        "outputId": "6ef024c4-f55b-4eef-d6ec-50ee4d4e240a"
      },
      "outputs": [
        {
          "output_type": "stream",
          "name": "stderr",
          "text": [
            "<ipython-input-1-e2495919c229>:5: DtypeWarning: Columns (40,41,43,45,46,47,86) have mixed types. Specify dtype option on import or set low_memory=False.\n",
            "  data = pd.read_csv('/content/drive/MyDrive/Year 4/Data Science And Machine Learning/Project/Boston House Price Predictor/brooklyn_sales_map.csv')\n"
          ]
        },
        {
          "output_type": "execute_result",
          "data": {
            "text/plain": [
              "      Unnamed: 0  borough neighborhood building_class_category tax_class  \\\n",
              "3854        3855        3   GREENPOINT     01 ONE FAMILY HOMES         1   \n",
              "4928        4929        3   GREENPOINT     01 ONE FAMILY HOMES         1   \n",
              "7525        7526        3   GREENPOINT     01 ONE FAMILY HOMES         1   \n",
              "7662        7663        3   GREENPOINT     01 ONE FAMILY HOMES         1   \n",
              "9047        9048        3   GREENPOINT     01 ONE FAMILY HOMES         1   \n",
              "\n",
              "      block  lot  easement building_class               address  ...  \\\n",
              "3854   2532   46       NaN             S1  975 MANHATTAN AVENUE  ...   \n",
              "4928   2571   28       NaN             A9      85 CALYER STREET  ...   \n",
              "7525   2648   14       NaN             A9    175 ECKFORD STREET  ...   \n",
              "7662   2688   80       NaN             A4    172 MONITOR STREET  ...   \n",
              "9047   2569   48       NaN             A3   1093 LORIMER STREET  ...   \n",
              "\n",
              "     EDesigNum  APPBBL  APPDate  PLUTOMapID  FIRM07_FLA  PFIRM15_FL  Version  \\\n",
              "3854     E-232     0.0      NaN         1.0         NaN         NaN   17V1.1   \n",
              "4928       NaN     0.0      NaN         1.0         NaN         NaN   17V1.1   \n",
              "7525       NaN     0.0      NaN         1.0         NaN         NaN   17V1.1   \n",
              "7662       NaN     0.0      NaN         1.0         NaN         NaN   17V1.1   \n",
              "9047       NaN     0.0      NaN         1.0         NaN         NaN   17V1.1   \n",
              "\n",
              "      MAPPLUTO_F  SHAPE_Leng   SHAPE_Area  \n",
              "3854         0.0  260.551630  2824.381736  \n",
              "4928         0.0  272.757476  3573.672233  \n",
              "7525         0.0  236.142431  1669.166554  \n",
              "7662         0.0  230.255274  1225.651989  \n",
              "9047         0.0  184.000262  1280.655387  \n",
              "\n",
              "[5 rows x 111 columns]"
            ],
            "text/html": [
              "\n",
              "  <div id=\"df-0afb446c-a12f-46d7-94db-c09392f58030\" class=\"colab-df-container\">\n",
              "    <div>\n",
              "<style scoped>\n",
              "    .dataframe tbody tr th:only-of-type {\n",
              "        vertical-align: middle;\n",
              "    }\n",
              "\n",
              "    .dataframe tbody tr th {\n",
              "        vertical-align: top;\n",
              "    }\n",
              "\n",
              "    .dataframe thead th {\n",
              "        text-align: right;\n",
              "    }\n",
              "</style>\n",
              "<table border=\"1\" class=\"dataframe\">\n",
              "  <thead>\n",
              "    <tr style=\"text-align: right;\">\n",
              "      <th></th>\n",
              "      <th>Unnamed: 0</th>\n",
              "      <th>borough</th>\n",
              "      <th>neighborhood</th>\n",
              "      <th>building_class_category</th>\n",
              "      <th>tax_class</th>\n",
              "      <th>block</th>\n",
              "      <th>lot</th>\n",
              "      <th>easement</th>\n",
              "      <th>building_class</th>\n",
              "      <th>address</th>\n",
              "      <th>...</th>\n",
              "      <th>EDesigNum</th>\n",
              "      <th>APPBBL</th>\n",
              "      <th>APPDate</th>\n",
              "      <th>PLUTOMapID</th>\n",
              "      <th>FIRM07_FLA</th>\n",
              "      <th>PFIRM15_FL</th>\n",
              "      <th>Version</th>\n",
              "      <th>MAPPLUTO_F</th>\n",
              "      <th>SHAPE_Leng</th>\n",
              "      <th>SHAPE_Area</th>\n",
              "    </tr>\n",
              "  </thead>\n",
              "  <tbody>\n",
              "    <tr>\n",
              "      <th>3854</th>\n",
              "      <td>3855</td>\n",
              "      <td>3</td>\n",
              "      <td>GREENPOINT</td>\n",
              "      <td>01 ONE FAMILY HOMES</td>\n",
              "      <td>1</td>\n",
              "      <td>2532</td>\n",
              "      <td>46</td>\n",
              "      <td>NaN</td>\n",
              "      <td>S1</td>\n",
              "      <td>975 MANHATTAN AVENUE</td>\n",
              "      <td>...</td>\n",
              "      <td>E-232</td>\n",
              "      <td>0.0</td>\n",
              "      <td>NaN</td>\n",
              "      <td>1.0</td>\n",
              "      <td>NaN</td>\n",
              "      <td>NaN</td>\n",
              "      <td>17V1.1</td>\n",
              "      <td>0.0</td>\n",
              "      <td>260.551630</td>\n",
              "      <td>2824.381736</td>\n",
              "    </tr>\n",
              "    <tr>\n",
              "      <th>4928</th>\n",
              "      <td>4929</td>\n",
              "      <td>3</td>\n",
              "      <td>GREENPOINT</td>\n",
              "      <td>01 ONE FAMILY HOMES</td>\n",
              "      <td>1</td>\n",
              "      <td>2571</td>\n",
              "      <td>28</td>\n",
              "      <td>NaN</td>\n",
              "      <td>A9</td>\n",
              "      <td>85 CALYER STREET</td>\n",
              "      <td>...</td>\n",
              "      <td>NaN</td>\n",
              "      <td>0.0</td>\n",
              "      <td>NaN</td>\n",
              "      <td>1.0</td>\n",
              "      <td>NaN</td>\n",
              "      <td>NaN</td>\n",
              "      <td>17V1.1</td>\n",
              "      <td>0.0</td>\n",
              "      <td>272.757476</td>\n",
              "      <td>3573.672233</td>\n",
              "    </tr>\n",
              "    <tr>\n",
              "      <th>7525</th>\n",
              "      <td>7526</td>\n",
              "      <td>3</td>\n",
              "      <td>GREENPOINT</td>\n",
              "      <td>01 ONE FAMILY HOMES</td>\n",
              "      <td>1</td>\n",
              "      <td>2648</td>\n",
              "      <td>14</td>\n",
              "      <td>NaN</td>\n",
              "      <td>A9</td>\n",
              "      <td>175 ECKFORD STREET</td>\n",
              "      <td>...</td>\n",
              "      <td>NaN</td>\n",
              "      <td>0.0</td>\n",
              "      <td>NaN</td>\n",
              "      <td>1.0</td>\n",
              "      <td>NaN</td>\n",
              "      <td>NaN</td>\n",
              "      <td>17V1.1</td>\n",
              "      <td>0.0</td>\n",
              "      <td>236.142431</td>\n",
              "      <td>1669.166554</td>\n",
              "    </tr>\n",
              "    <tr>\n",
              "      <th>7662</th>\n",
              "      <td>7663</td>\n",
              "      <td>3</td>\n",
              "      <td>GREENPOINT</td>\n",
              "      <td>01 ONE FAMILY HOMES</td>\n",
              "      <td>1</td>\n",
              "      <td>2688</td>\n",
              "      <td>80</td>\n",
              "      <td>NaN</td>\n",
              "      <td>A4</td>\n",
              "      <td>172 MONITOR STREET</td>\n",
              "      <td>...</td>\n",
              "      <td>NaN</td>\n",
              "      <td>0.0</td>\n",
              "      <td>NaN</td>\n",
              "      <td>1.0</td>\n",
              "      <td>NaN</td>\n",
              "      <td>NaN</td>\n",
              "      <td>17V1.1</td>\n",
              "      <td>0.0</td>\n",
              "      <td>230.255274</td>\n",
              "      <td>1225.651989</td>\n",
              "    </tr>\n",
              "    <tr>\n",
              "      <th>9047</th>\n",
              "      <td>9048</td>\n",
              "      <td>3</td>\n",
              "      <td>GREENPOINT</td>\n",
              "      <td>01 ONE FAMILY HOMES</td>\n",
              "      <td>1</td>\n",
              "      <td>2569</td>\n",
              "      <td>48</td>\n",
              "      <td>NaN</td>\n",
              "      <td>A3</td>\n",
              "      <td>1093 LORIMER STREET</td>\n",
              "      <td>...</td>\n",
              "      <td>NaN</td>\n",
              "      <td>0.0</td>\n",
              "      <td>NaN</td>\n",
              "      <td>1.0</td>\n",
              "      <td>NaN</td>\n",
              "      <td>NaN</td>\n",
              "      <td>17V1.1</td>\n",
              "      <td>0.0</td>\n",
              "      <td>184.000262</td>\n",
              "      <td>1280.655387</td>\n",
              "    </tr>\n",
              "  </tbody>\n",
              "</table>\n",
              "<p>5 rows × 111 columns</p>\n",
              "</div>\n",
              "    <div class=\"colab-df-buttons\">\n",
              "\n",
              "  <div class=\"colab-df-container\">\n",
              "    <button class=\"colab-df-convert\" onclick=\"convertToInteractive('df-0afb446c-a12f-46d7-94db-c09392f58030')\"\n",
              "            title=\"Convert this dataframe to an interactive table.\"\n",
              "            style=\"display:none;\">\n",
              "\n",
              "  <svg xmlns=\"http://www.w3.org/2000/svg\" height=\"24px\" viewBox=\"0 -960 960 960\">\n",
              "    <path d=\"M120-120v-720h720v720H120Zm60-500h600v-160H180v160Zm220 220h160v-160H400v160Zm0 220h160v-160H400v160ZM180-400h160v-160H180v160Zm440 0h160v-160H620v160ZM180-180h160v-160H180v160Zm440 0h160v-160H620v160Z\"/>\n",
              "  </svg>\n",
              "    </button>\n",
              "\n",
              "  <style>\n",
              "    .colab-df-container {\n",
              "      display:flex;\n",
              "      gap: 12px;\n",
              "    }\n",
              "\n",
              "    .colab-df-convert {\n",
              "      background-color: #E8F0FE;\n",
              "      border: none;\n",
              "      border-radius: 50%;\n",
              "      cursor: pointer;\n",
              "      display: none;\n",
              "      fill: #1967D2;\n",
              "      height: 32px;\n",
              "      padding: 0 0 0 0;\n",
              "      width: 32px;\n",
              "    }\n",
              "\n",
              "    .colab-df-convert:hover {\n",
              "      background-color: #E2EBFA;\n",
              "      box-shadow: 0px 1px 2px rgba(60, 64, 67, 0.3), 0px 1px 3px 1px rgba(60, 64, 67, 0.15);\n",
              "      fill: #174EA6;\n",
              "    }\n",
              "\n",
              "    .colab-df-buttons div {\n",
              "      margin-bottom: 4px;\n",
              "    }\n",
              "\n",
              "    [theme=dark] .colab-df-convert {\n",
              "      background-color: #3B4455;\n",
              "      fill: #D2E3FC;\n",
              "    }\n",
              "\n",
              "    [theme=dark] .colab-df-convert:hover {\n",
              "      background-color: #434B5C;\n",
              "      box-shadow: 0px 1px 3px 1px rgba(0, 0, 0, 0.15);\n",
              "      filter: drop-shadow(0px 1px 2px rgba(0, 0, 0, 0.3));\n",
              "      fill: #FFFFFF;\n",
              "    }\n",
              "  </style>\n",
              "\n",
              "    <script>\n",
              "      const buttonEl =\n",
              "        document.querySelector('#df-0afb446c-a12f-46d7-94db-c09392f58030 button.colab-df-convert');\n",
              "      buttonEl.style.display =\n",
              "        google.colab.kernel.accessAllowed ? 'block' : 'none';\n",
              "\n",
              "      async function convertToInteractive(key) {\n",
              "        const element = document.querySelector('#df-0afb446c-a12f-46d7-94db-c09392f58030');\n",
              "        const dataTable =\n",
              "          await google.colab.kernel.invokeFunction('convertToInteractive',\n",
              "                                                    [key], {});\n",
              "        if (!dataTable) return;\n",
              "\n",
              "        const docLinkHtml = 'Like what you see? Visit the ' +\n",
              "          '<a target=\"_blank\" href=https://colab.research.google.com/notebooks/data_table.ipynb>data table notebook</a>'\n",
              "          + ' to learn more about interactive tables.';\n",
              "        element.innerHTML = '';\n",
              "        dataTable['output_type'] = 'display_data';\n",
              "        await google.colab.output.renderOutput(dataTable, element);\n",
              "        const docLink = document.createElement('div');\n",
              "        docLink.innerHTML = docLinkHtml;\n",
              "        element.appendChild(docLink);\n",
              "      }\n",
              "    </script>\n",
              "  </div>\n",
              "\n",
              "\n",
              "<div id=\"df-990a59da-f894-4703-a314-9a92100c22d2\">\n",
              "  <button class=\"colab-df-quickchart\" onclick=\"quickchart('df-990a59da-f894-4703-a314-9a92100c22d2')\"\n",
              "            title=\"Suggest charts\"\n",
              "            style=\"display:none;\">\n",
              "\n",
              "<svg xmlns=\"http://www.w3.org/2000/svg\" height=\"24px\"viewBox=\"0 0 24 24\"\n",
              "     width=\"24px\">\n",
              "    <g>\n",
              "        <path d=\"M19 3H5c-1.1 0-2 .9-2 2v14c0 1.1.9 2 2 2h14c1.1 0 2-.9 2-2V5c0-1.1-.9-2-2-2zM9 17H7v-7h2v7zm4 0h-2V7h2v10zm4 0h-2v-4h2v4z\"/>\n",
              "    </g>\n",
              "</svg>\n",
              "  </button>\n",
              "\n",
              "<style>\n",
              "  .colab-df-quickchart {\n",
              "      --bg-color: #E8F0FE;\n",
              "      --fill-color: #1967D2;\n",
              "      --hover-bg-color: #E2EBFA;\n",
              "      --hover-fill-color: #174EA6;\n",
              "      --disabled-fill-color: #AAA;\n",
              "      --disabled-bg-color: #DDD;\n",
              "  }\n",
              "\n",
              "  [theme=dark] .colab-df-quickchart {\n",
              "      --bg-color: #3B4455;\n",
              "      --fill-color: #D2E3FC;\n",
              "      --hover-bg-color: #434B5C;\n",
              "      --hover-fill-color: #FFFFFF;\n",
              "      --disabled-bg-color: #3B4455;\n",
              "      --disabled-fill-color: #666;\n",
              "  }\n",
              "\n",
              "  .colab-df-quickchart {\n",
              "    background-color: var(--bg-color);\n",
              "    border: none;\n",
              "    border-radius: 50%;\n",
              "    cursor: pointer;\n",
              "    display: none;\n",
              "    fill: var(--fill-color);\n",
              "    height: 32px;\n",
              "    padding: 0;\n",
              "    width: 32px;\n",
              "  }\n",
              "\n",
              "  .colab-df-quickchart:hover {\n",
              "    background-color: var(--hover-bg-color);\n",
              "    box-shadow: 0 1px 2px rgba(60, 64, 67, 0.3), 0 1px 3px 1px rgba(60, 64, 67, 0.15);\n",
              "    fill: var(--button-hover-fill-color);\n",
              "  }\n",
              "\n",
              "  .colab-df-quickchart-complete:disabled,\n",
              "  .colab-df-quickchart-complete:disabled:hover {\n",
              "    background-color: var(--disabled-bg-color);\n",
              "    fill: var(--disabled-fill-color);\n",
              "    box-shadow: none;\n",
              "  }\n",
              "\n",
              "  .colab-df-spinner {\n",
              "    border: 2px solid var(--fill-color);\n",
              "    border-color: transparent;\n",
              "    border-bottom-color: var(--fill-color);\n",
              "    animation:\n",
              "      spin 1s steps(1) infinite;\n",
              "  }\n",
              "\n",
              "  @keyframes spin {\n",
              "    0% {\n",
              "      border-color: transparent;\n",
              "      border-bottom-color: var(--fill-color);\n",
              "      border-left-color: var(--fill-color);\n",
              "    }\n",
              "    20% {\n",
              "      border-color: transparent;\n",
              "      border-left-color: var(--fill-color);\n",
              "      border-top-color: var(--fill-color);\n",
              "    }\n",
              "    30% {\n",
              "      border-color: transparent;\n",
              "      border-left-color: var(--fill-color);\n",
              "      border-top-color: var(--fill-color);\n",
              "      border-right-color: var(--fill-color);\n",
              "    }\n",
              "    40% {\n",
              "      border-color: transparent;\n",
              "      border-right-color: var(--fill-color);\n",
              "      border-top-color: var(--fill-color);\n",
              "    }\n",
              "    60% {\n",
              "      border-color: transparent;\n",
              "      border-right-color: var(--fill-color);\n",
              "    }\n",
              "    80% {\n",
              "      border-color: transparent;\n",
              "      border-right-color: var(--fill-color);\n",
              "      border-bottom-color: var(--fill-color);\n",
              "    }\n",
              "    90% {\n",
              "      border-color: transparent;\n",
              "      border-bottom-color: var(--fill-color);\n",
              "    }\n",
              "  }\n",
              "</style>\n",
              "\n",
              "  <script>\n",
              "    async function quickchart(key) {\n",
              "      const quickchartButtonEl =\n",
              "        document.querySelector('#' + key + ' button');\n",
              "      quickchartButtonEl.disabled = true;  // To prevent multiple clicks.\n",
              "      quickchartButtonEl.classList.add('colab-df-spinner');\n",
              "      try {\n",
              "        const charts = await google.colab.kernel.invokeFunction(\n",
              "            'suggestCharts', [key], {});\n",
              "      } catch (error) {\n",
              "        console.error('Error during call to suggestCharts:', error);\n",
              "      }\n",
              "      quickchartButtonEl.classList.remove('colab-df-spinner');\n",
              "      quickchartButtonEl.classList.add('colab-df-quickchart-complete');\n",
              "    }\n",
              "    (() => {\n",
              "      let quickchartButtonEl =\n",
              "        document.querySelector('#df-990a59da-f894-4703-a314-9a92100c22d2 button');\n",
              "      quickchartButtonEl.style.display =\n",
              "        google.colab.kernel.accessAllowed ? 'block' : 'none';\n",
              "    })();\n",
              "  </script>\n",
              "</div>\n",
              "\n",
              "    </div>\n",
              "  </div>\n"
            ],
            "application/vnd.google.colaboratory.intrinsic+json": {
              "type": "dataframe"
            }
          },
          "metadata": {},
          "execution_count": 1
        }
      ],
      "source": [
        "import csv\n",
        "import pandas as pd\n",
        "import numpy as np\n",
        "import matplotlib.dates as mdates\n",
        "data = pd.read_csv('/content/drive/MyDrive/Year 4/Data Science And Machine Learning/Project/brooklyn House Price Predictor/brooklyn_sales_map.csv')\n",
        "homesInGreenpoint = data[data['neighborhood'] == 'GREENPOINT']\n",
        "homesInGreenpointLowTax = homesInGreenpoint[homesInGreenpoint['tax_class'] == \"1\"]\n",
        "data2 = homesInGreenpointLowTax[homesInGreenpointLowTax[\"building_class_category\"] == \"01 ONE FAMILY HOMES\"]\n",
        "x = data2[['year_of_sale']] # Sets x axis as square footage\n",
        "y = data2['sale_price'] # Sets y as price\n",
        "data2.head()\n",
        "#Above I narrowed the data down to low income single family house in the\n",
        "#greenpoint neighbourhood of brooklyn, this reduced the amount of rows to only 111"
      ]
    },
    {
      "cell_type": "code",
      "source": [
        "%matplotlib inline\n",
        "import matplotlib.pyplot as plt\n",
        "plt.style.use('seaborn-whitegrid')"
      ],
      "metadata": {
        "colab": {
          "base_uri": "https://localhost:8080/"
        },
        "id": "LgHsRa4EJkK-",
        "outputId": "91145121-888f-4dc1-9242-02b898268751"
      },
      "execution_count": null,
      "outputs": [
        {
          "output_type": "stream",
          "name": "stderr",
          "text": [
            "<ipython-input-2-444997ff90a3>:3: MatplotlibDeprecationWarning: The seaborn styles shipped by Matplotlib are deprecated since 3.6, as they no longer correspond to the styles shipped by seaborn. However, they will remain available as 'seaborn-v0_8-<style>'. Alternatively, directly use the seaborn API instead.\n",
            "  plt.style.use('seaborn-whitegrid')\n"
          ]
        }
      ]
    },
    {
      "cell_type": "markdown",
      "source": [
        "#Simple Linear Regression"
      ],
      "metadata": {
        "id": "bKOAiNgmUQ9T"
      }
    },
    {
      "cell_type": "code",
      "source": [
        "plt.suptitle('House Price Predictor') # Title of graph\n",
        "plt.xlabel('Year of Sale') # Label for x axis\n",
        "plt.ylabel('Price') # Label for y axis\n",
        "plt.scatter(x,y) # Plots all the scatter points\n",
        "plt.show()"
      ],
      "metadata": {
        "colab": {
          "base_uri": "https://localhost:8080/",
          "height": 493
        },
        "id": "jGaT76SjJMDf",
        "outputId": "f2b68603-4166-420e-f147-69e0dba3961f"
      },
      "execution_count": null,
      "outputs": [
        {
          "output_type": "display_data",
          "data": {
            "text/plain": [
              "<Figure size 640x480 with 1 Axes>"
            ],
            "image/png": "[encoded data removed]"
          },
          "metadata": {}
        }
      ]
    },
    {
      "cell_type": "code",
      "source": [
        "from sklearn.linear_model import LinearRegression\n",
        "model = LinearRegression(fit_intercept=True)\n",
        "\n",
        "model.fit(x, y) # Trains the ML model on the data\n",
        "yPredict = model.predict(x) #Sets variable that predicts the y axis\n",
        "\n",
        "plt.suptitle('House Price Predictor')\n",
        "plt.xlabel('Year of Sale')\n",
        "plt.ylabel('Price')\n",
        "plt.scatter(x,y)\n",
        "plt.ylim((-500000, 5000000))\n",
        "plt.plot(x,yPredict, color='red', label='Regression line') #Plots the regression line\n",
        "plt.show()"
      ],
      "metadata": {
        "colab": {
          "base_uri": "https://localhost:8080/",
          "height": 493
        },
        "id": "XSXLYsneJ1NL",
        "outputId": "250e278e-0b42-4bcb-a4f9-c142c7eecaaa"
      },
      "execution_count": null,
      "outputs": [
        {
          "output_type": "display_data",
          "data": {
            "text/plain": [
              "<Figure size 640x480 with 1 Axes>"
            ],
            "image/png": "[encoded data removed]"
          },
          "metadata": {}
        }
      ]
    },
    {
      "cell_type": "code",
      "source": [
        "from sklearn.metrics import r2_score\n",
        "r_squared = r2_score(y,yPredict) #Gets the r2 score\n",
        "print(\"R Squared value is : \", r_squared)"
      ],
      "metadata": {
        "colab": {
          "base_uri": "https://localhost:8080/"
        },
        "id": "m0IIxmX7OhEh",
        "outputId": "31f538c1-9548-4cdf-f6ac-29b06ca401f0"
      },
      "execution_count": null,
      "outputs": [
        {
          "output_type": "stream",
          "name": "stdout",
          "text": [
            "R Squared value is :  0.21849982838355564\n"
          ]
        }
      ]
    },
    {
      "cell_type": "code",
      "source": [
        "model = LinearRegression(fit_intercept=True)\n",
        "\n",
        "model.fit(x, y) # Trains the ML model on the data\n",
        "yPredict = model.predict(x) #Sets variable that predicts the y axis\n",
        "\n",
        "plt.suptitle('House Price Predictor')\n",
        "plt.xlabel('Year of Sale')\n",
        "plt.ylabel('Price')\n",
        "plt.scatter(x,y)\n",
        "plt.ylim((-500000, 5000000))\n",
        "plt.plot(x,yPredict, color='red', label='Regression line') #Plots the regression line\n",
        "plt.text(2002, 4500000,f\"R2 Score: {round(r_squared,2)}%\",fontsize=12)\n",
        "plt.show()"
      ],
      "metadata": {
        "colab": {
          "base_uri": "https://localhost:8080/",
          "height": 493
        },
        "id": "MKjbSW5SOjsV",
        "outputId": "583ed91b-6e6e-4057-e1d0-c587e4cfd38b"
      },
      "execution_count": null,
      "outputs": [
        {
          "output_type": "display_data",
          "data": {
            "text/plain": [
              "<Figure size 640x480 with 1 Axes>"
            ],
            "image/png": "[encoded data removed]"
          },
          "metadata": {}
        }
      ]
    },
    {
      "cell_type": "markdown",
      "source": [
        "#Polynomial Functions"
      ],
      "metadata": {
        "id": "PvcwwP5nZtNL"
      }
    },
    {
      "cell_type": "code",
      "source": [
        "print(y)"
      ],
      "metadata": {
        "colab": {
          "base_uri": "https://localhost:8080/"
        },
        "id": "ozrzdTKXbQP9",
        "outputId": "196ba426-6cdf-4910-ace5-4ede8c5d3eba"
      },
      "execution_count": null,
      "outputs": [
        {
          "output_type": "stream",
          "name": "stdout",
          "text": [
            "3854      3680000.0\n",
            "4928      3140000.0\n",
            "7525      2380000.0\n",
            "7662      2350000.0\n",
            "9047      2100000.0\n",
            "            ...    \n",
            "380985          0.0\n",
            "380989          0.0\n",
            "380990     540000.0\n",
            "380991     850000.0\n",
            "380992          0.0\n",
            "Name: sale_price, Length: 149, dtype: float64\n"
          ]
        }
      ]
    },
    {
      "cell_type": "code",
      "source": [
        "from sklearn.preprocessing import PolynomialFeatures\n",
        "poly = PolynomialFeatures(3, include_bias=False) #degree set to 3, supports\n",
        "#up to cubic functions\n",
        "poly.fit_transform(x) #Transforms x into 3d array"
      ],
      "metadata": {
        "colab": {
          "base_uri": "https://localhost:8080/"
        },
        "id": "TCs7lnqTPZAq",
        "outputId": "636b87c6-7c63-4d92-ca43-1ff573bbccb6",
        "collapsed": true
      },
      "execution_count": null,
      "outputs": [
        {
          "output_type": "execute_result",
          "data": {
            "text/plain": [
              "array([[2.017000e+03, 4.068289e+06],\n",
              "       [2.017000e+03, 4.068289e+06],\n",
              "       [2.015000e+03, 4.060225e+06],\n",
              "       [2.017000e+03, 4.068289e+06],\n",
              "       [2.015000e+03, 4.060225e+06],\n",
              "       [2.017000e+03, 4.068289e+06],\n",
              "       [2.015000e+03, 4.060225e+06],\n",
              "       [2.015000e+03, 4.060225e+06],\n",
              "       [2.015000e+03, 4.060225e+06],\n",
              "       [2.015000e+03, 4.060225e+06],\n",
              "       [2.016000e+03, 4.064256e+06],\n",
              "       [2.014000e+03, 4.056196e+06],\n",
              "       [2.017000e+03, 4.068289e+06],\n",
              "       [2.016000e+03, 4.064256e+06],\n",
              "       [2.017000e+03, 4.068289e+06],\n",
              "       [2.014000e+03, 4.056196e+06],\n",
              "       [2.016000e+03, 4.064256e+06],\n",
              "       [2.013000e+03, 4.052169e+06],\n",
              "       [2.008000e+03, 4.032064e+06],\n",
              "       [2.010000e+03, 4.040100e+06],\n",
              "       [2.014000e+03, 4.056196e+06],\n",
              "       [2.011000e+03, 4.044121e+06],\n",
              "       [2.017000e+03, 4.068289e+06],\n",
              "       [2.015000e+03, 4.060225e+06],\n",
              "       [2.016000e+03, 4.064256e+06],\n",
              "       [2.008000e+03, 4.032064e+06],\n",
              "       [2.013000e+03, 4.052169e+06],\n",
              "       [2.009000e+03, 4.036081e+06],\n",
              "       [2.003000e+03, 4.012009e+06],\n",
              "       [2.011000e+03, 4.044121e+06],\n",
              "       [2.010000e+03, 4.040100e+06],\n",
              "       [2.007000e+03, 4.028049e+06],\n",
              "       [2.009000e+03, 4.036081e+06],\n",
              "       [2.009000e+03, 4.036081e+06],\n",
              "       [2.012000e+03, 4.048144e+06],\n",
              "       [2.008000e+03, 4.032064e+06],\n",
              "       [2.010000e+03, 4.040100e+06],\n",
              "       [2.015000e+03, 4.060225e+06],\n",
              "       [2.012000e+03, 4.048144e+06],\n",
              "       [2.007000e+03, 4.028049e+06],\n",
              "       [2.011000e+03, 4.044121e+06],\n",
              "       [2.007000e+03, 4.028049e+06],\n",
              "       [2.007000e+03, 4.028049e+06],\n",
              "       [2.007000e+03, 4.028049e+06],\n",
              "       [2.009000e+03, 4.036081e+06],\n",
              "       [2.010000e+03, 4.040100e+06],\n",
              "       [2.013000e+03, 4.052169e+06],\n",
              "       [2.011000e+03, 4.044121e+06],\n",
              "       [2.003000e+03, 4.012009e+06],\n",
              "       [2.010000e+03, 4.040100e+06],\n",
              "       [2.008000e+03, 4.032064e+06],\n",
              "       [2.010000e+03, 4.040100e+06],\n",
              "       [2.003000e+03, 4.012009e+06],\n",
              "       [2.013000e+03, 4.052169e+06],\n",
              "       [2.008000e+03, 4.032064e+06],\n",
              "       [2.015000e+03, 4.060225e+06],\n",
              "       [2.007000e+03, 4.028049e+06],\n",
              "       [2.009000e+03, 4.036081e+06],\n",
              "       [2.009000e+03, 4.036081e+06],\n",
              "       [2.009000e+03, 4.036081e+06],\n",
              "       [2.009000e+03, 4.036081e+06],\n",
              "       [2.010000e+03, 4.040100e+06],\n",
              "       [2.010000e+03, 4.040100e+06],\n",
              "       [2.010000e+03, 4.040100e+06],\n",
              "       [2.010000e+03, 4.040100e+06],\n",
              "       [2.010000e+03, 4.040100e+06],\n",
              "       [2.010000e+03, 4.040100e+06],\n",
              "       [2.010000e+03, 4.040100e+06],\n",
              "       [2.011000e+03, 4.044121e+06],\n",
              "       [2.012000e+03, 4.048144e+06],\n",
              "       [2.012000e+03, 4.048144e+06],\n",
              "       [2.012000e+03, 4.048144e+06],\n",
              "       [2.013000e+03, 4.052169e+06],\n",
              "       [2.014000e+03, 4.056196e+06],\n",
              "       [2.014000e+03, 4.056196e+06],\n",
              "       [2.014000e+03, 4.056196e+06],\n",
              "       [2.015000e+03, 4.060225e+06],\n",
              "       [2.015000e+03, 4.060225e+06],\n",
              "       [2.015000e+03, 4.060225e+06],\n",
              "       [2.015000e+03, 4.060225e+06],\n",
              "       [2.015000e+03, 4.060225e+06],\n",
              "       [2.016000e+03, 4.064256e+06],\n",
              "       [2.017000e+03, 4.068289e+06],\n",
              "       [2.017000e+03, 4.068289e+06],\n",
              "       [2.017000e+03, 4.068289e+06],\n",
              "       [2.017000e+03, 4.068289e+06],\n",
              "       [2.017000e+03, 4.068289e+06],\n",
              "       [2.007000e+03, 4.028049e+06],\n",
              "       [2.007000e+03, 4.028049e+06],\n",
              "       [2.007000e+03, 4.028049e+06],\n",
              "       [2.007000e+03, 4.028049e+06],\n",
              "       [2.007000e+03, 4.028049e+06],\n",
              "       [2.008000e+03, 4.032064e+06],\n",
              "       [2.008000e+03, 4.032064e+06],\n",
              "       [2.008000e+03, 4.032064e+06],\n",
              "       [2.008000e+03, 4.032064e+06],\n",
              "       [2.008000e+03, 4.032064e+06],\n",
              "       [2.008000e+03, 4.032064e+06],\n",
              "       [2.008000e+03, 4.032064e+06],\n",
              "       [2.008000e+03, 4.032064e+06],\n",
              "       [2.008000e+03, 4.032064e+06],\n",
              "       [2.003000e+03, 4.012009e+06],\n",
              "       [2.003000e+03, 4.012009e+06],\n",
              "       [2.003000e+03, 4.012009e+06],\n",
              "       [2.003000e+03, 4.012009e+06],\n",
              "       [2.003000e+03, 4.012009e+06],\n",
              "       [2.003000e+03, 4.012009e+06],\n",
              "       [2.003000e+03, 4.012009e+06],\n",
              "       [2.003000e+03, 4.012009e+06],\n",
              "       [2.003000e+03, 4.012009e+06],\n",
              "       [2.003000e+03, 4.012009e+06],\n",
              "       [2.003000e+03, 4.012009e+06],\n",
              "       [2.003000e+03, 4.012009e+06],\n",
              "       [2.004000e+03, 4.016016e+06],\n",
              "       [2.004000e+03, 4.016016e+06],\n",
              "       [2.004000e+03, 4.016016e+06],\n",
              "       [2.004000e+03, 4.016016e+06],\n",
              "       [2.004000e+03, 4.016016e+06],\n",
              "       [2.004000e+03, 4.016016e+06],\n",
              "       [2.004000e+03, 4.016016e+06],\n",
              "       [2.004000e+03, 4.016016e+06],\n",
              "       [2.004000e+03, 4.016016e+06],\n",
              "       [2.004000e+03, 4.016016e+06],\n",
              "       [2.004000e+03, 4.016016e+06],\n",
              "       [2.004000e+03, 4.016016e+06],\n",
              "       [2.004000e+03, 4.016016e+06],\n",
              "       [2.005000e+03, 4.020025e+06],\n",
              "       [2.005000e+03, 4.020025e+06],\n",
              "       [2.005000e+03, 4.020025e+06],\n",
              "       [2.005000e+03, 4.020025e+06],\n",
              "       [2.005000e+03, 4.020025e+06],\n",
              "       [2.005000e+03, 4.020025e+06],\n",
              "       [2.005000e+03, 4.020025e+06],\n",
              "       [2.005000e+03, 4.020025e+06],\n",
              "       [2.005000e+03, 4.020025e+06],\n",
              "       [2.005000e+03, 4.020025e+06],\n",
              "       [2.005000e+03, 4.020025e+06],\n",
              "       [2.005000e+03, 4.020025e+06],\n",
              "       [2.005000e+03, 4.020025e+06],\n",
              "       [2.006000e+03, 4.024036e+06],\n",
              "       [2.006000e+03, 4.024036e+06],\n",
              "       [2.006000e+03, 4.024036e+06],\n",
              "       [2.006000e+03, 4.024036e+06],\n",
              "       [2.006000e+03, 4.024036e+06],\n",
              "       [2.006000e+03, 4.024036e+06],\n",
              "       [2.006000e+03, 4.024036e+06],\n",
              "       [2.006000e+03, 4.024036e+06],\n",
              "       [2.006000e+03, 4.024036e+06],\n",
              "       [2.006000e+03, 4.024036e+06]])"
            ]
          },
          "metadata": {},
          "execution_count": 17
        }
      ]
    },
    {
      "cell_type": "code",
      "source": [
        "print(x)"
      ],
      "metadata": {
        "colab": {
          "base_uri": "https://localhost:8080/"
        },
        "id": "MDXafF3Hb0sG",
        "outputId": "ebc1341e-10aa-4b11-ca94-1148c287be32"
      },
      "execution_count": null,
      "outputs": [
        {
          "output_type": "stream",
          "name": "stdout",
          "text": [
            "        year_of_sale\n",
            "3854            2017\n",
            "4928            2017\n",
            "7525            2015\n",
            "7662            2017\n",
            "9047            2015\n",
            "...              ...\n",
            "380985          2006\n",
            "380989          2006\n",
            "380990          2006\n",
            "380991          2006\n",
            "380992          2006\n",
            "\n",
            "[149 rows x 1 columns]\n"
          ]
        }
      ]
    },
    {
      "cell_type": "code",
      "source": [
        "from sklearn.pipeline import make_pipeline\n",
        "poly_model = make_pipeline(PolynomialFeatures(10),\n",
        "                           LinearRegression())"
      ],
      "metadata": {
        "id": "hoZVp_dCPj8P"
      },
      "execution_count": null,
      "outputs": []
    },
    {
      "cell_type": "code",
      "source": [
        "poly_model.fit(x, y)\n",
        "yfit = poly_model.predict(x)\n",
        "\n",
        "plt.scatter(x, y)\n",
        "plt.plot(x, yfit, color='red');"
      ],
      "metadata": {
        "colab": {
          "base_uri": "https://localhost:8080/",
          "height": 440
        },
        "id": "uVNHLSU_PotQ",
        "outputId": "07490673-7637-490b-b65b-aa7c6f09e093"
      },
      "execution_count": null,
      "outputs": [
        {
          "output_type": "display_data",
          "data": {
            "text/plain": [
              "<Figure size 640x480 with 1 Axes>"
            ],
            "image/png": "[encoded data removed]"
          },
          "metadata": {}
        }
      ]
    }
  ]
}